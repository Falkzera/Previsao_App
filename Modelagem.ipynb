{
 "cells": [
  {
   "cell_type": "markdown",
   "metadata": {},
   "source": [
    "# Libs utilizadas"
   ]
  },
  {
   "cell_type": "code",
   "execution_count": 283,
   "metadata": {},
   "outputs": [],
   "source": [
    "import pandas as pd\n",
    "import numpy as np\n",
    "import matplotlib.pyplot as plt\n",
    "import matplotlib as m\n",
    "import seaborn as sns\n",
    "import statsmodels.api as sm\n",
    "import scipy\n",
    "from scipy.stats import boxcox\n",
    "from datetime import datetime\n",
    "from math import sqrt\n",
    "from sklearn.metrics import mean_absolute_error,mean_squared_error,mean_absolute_percentage_error\n",
    "from statsmodels.tsa.holtwinters import SimpleExpSmoothing, ExponentialSmoothing\n",
    "from statsmodels.tsa.seasonal import seasonal_decompose\n",
    "from statsmodels.graphics.tsaplots import plot_acf, plot_pacf\n",
    "from statsmodels.tsa.stattools import adfuller\n",
    "from statsmodels.tsa.arima.model import ARIMA\n",
    "from matplotlib.pyplot import figure\n",
    "from statsmodels.tsa.statespace.sarimax import SARIMAX\n",
    "import warnings\n",
    "from modulos.estacionaridade import *\n",
    "from modulos.testes_estacionarios import *\n",
    "from modulos.Credito import *\n",
    "from modulos.filtros import *\n",
    "from modulos.carregamento import *\n",
    "\n",
    "# Filtrando warnings\n",
    "warnings.filterwarnings(\"ignore\")"
   ]
  },
  {
   "cell_type": "markdown",
   "metadata": {},
   "source": [
    "___"
   ]
  },
  {
   "cell_type": "markdown",
   "metadata": {},
   "source": [
    "# 1 - Organização dos Dados\n",
    "> Filtragem da base de dados"
   ]
  },
  {
   "cell_type": "markdown",
   "metadata": {},
   "source": [
    "Carregando a base bruta"
   ]
  },
  {
   "cell_type": "code",
   "execution_count": 284,
   "metadata": {},
   "outputs": [],
   "source": [
    "df1 = pd.read_csv('data/desepesa_2018_2024.csv', encoding='latin1', sep=';')"
   ]
  },
  {
   "cell_type": "code",
   "execution_count": 285,
   "metadata": {},
   "outputs": [],
   "source": [
    "df = pd.read_excel('data/despesa_2014_2017.xlsx')"
   ]
  },
  {
   "cell_type": "code",
   "execution_count": 286,
   "metadata": {},
   "outputs": [],
   "source": [
    "df1 = df1[['ANO', 'MES', 'PODER', 'UO', 'UG', 'FONTE_MAE', 'NATUREZA3', 'VALOR_EMPENHADO']]\n",
    "df = df[['ANO', 'MES', 'PODER', 'UO', 'UG', 'FONTE_MAE', 'NATUREZA3', 'VALOR_EMPENHADO']]\n",
    "df = pd.concat([df, df1])"
   ]
  },
  {
   "cell_type": "code",
   "execution_count": 287,
   "metadata": {},
   "outputs": [
    {
     "data": {
      "text/plain": [
       "Index(['ANO', 'MES', 'PODER', 'UO', 'UG', 'FONTE_MAE', 'NATUREZA3', 'VALOR_EMPENHADO'], dtype='object')"
      ]
     },
     "execution_count": 287,
     "metadata": {},
     "output_type": "execute_result"
    }
   ],
   "source": [
    "df.columns"
   ]
  },
  {
   "cell_type": "markdown",
   "metadata": {},
   "source": [
    "Organizando a base"
   ]
  },
  {
   "cell_type": "markdown",
   "metadata": {},
   "source": [
    "Selecionando as colunas para análise"
   ]
  },
  {
   "cell_type": "markdown",
   "metadata": {},
   "source": [
    "Criação de uma coluna Ano e Mês"
   ]
  },
  {
   "cell_type": "code",
   "execution_count": 288,
   "metadata": {},
   "outputs": [
    {
     "data": {
      "text/html": [
       "<div>\n",
       "<style scoped>\n",
       "    .dataframe tbody tr th:only-of-type {\n",
       "        vertical-align: middle;\n",
       "    }\n",
       "\n",
       "    .dataframe tbody tr th {\n",
       "        vertical-align: top;\n",
       "    }\n",
       "\n",
       "    .dataframe thead th {\n",
       "        text-align: right;\n",
       "    }\n",
       "</style>\n",
       "<table border=\"1\" class=\"dataframe\">\n",
       "  <thead>\n",
       "    <tr style=\"text-align: right;\">\n",
       "      <th></th>\n",
       "      <th>ANO</th>\n",
       "      <th>MES</th>\n",
       "      <th>PODER</th>\n",
       "      <th>UO</th>\n",
       "      <th>UG</th>\n",
       "      <th>FONTE_MAE</th>\n",
       "      <th>NATUREZA3</th>\n",
       "      <th>VALOR_EMPENHADO</th>\n",
       "    </tr>\n",
       "  </thead>\n",
       "  <tbody>\n",
       "    <tr>\n",
       "      <th>0</th>\n",
       "      <td>2014</td>\n",
       "      <td>6</td>\n",
       "      <td>EXE</td>\n",
       "      <td>25016</td>\n",
       "      <td>410016</td>\n",
       "      <td>146</td>\n",
       "      <td>344000000</td>\n",
       "      <td>1137990.00</td>\n",
       "    </tr>\n",
       "    <tr>\n",
       "      <th>1</th>\n",
       "      <td>2014</td>\n",
       "      <td>9</td>\n",
       "      <td>MPE</td>\n",
       "      <td>3004</td>\n",
       "      <td>30004</td>\n",
       "      <td>100</td>\n",
       "      <td>331000000</td>\n",
       "      <td>210537.96</td>\n",
       "    </tr>\n",
       "    <tr>\n",
       "      <th>2</th>\n",
       "      <td>2014</td>\n",
       "      <td>5</td>\n",
       "      <td>MPE</td>\n",
       "      <td>3004</td>\n",
       "      <td>30004</td>\n",
       "      <td>100</td>\n",
       "      <td>331000000</td>\n",
       "      <td>190434.86</td>\n",
       "    </tr>\n",
       "    <tr>\n",
       "      <th>3</th>\n",
       "      <td>2014</td>\n",
       "      <td>11</td>\n",
       "      <td>EXE</td>\n",
       "      <td>20516</td>\n",
       "      <td>510516</td>\n",
       "      <td>100</td>\n",
       "      <td>331000000</td>\n",
       "      <td>174294.75</td>\n",
       "    </tr>\n",
       "    <tr>\n",
       "      <th>4</th>\n",
       "      <td>2014</td>\n",
       "      <td>6</td>\n",
       "      <td>EXE</td>\n",
       "      <td>20516</td>\n",
       "      <td>510516</td>\n",
       "      <td>100</td>\n",
       "      <td>331000000</td>\n",
       "      <td>182815.82</td>\n",
       "    </tr>\n",
       "  </tbody>\n",
       "</table>\n",
       "</div>"
      ],
      "text/plain": [
       "    ANO  MES PODER     UO      UG  FONTE_MAE  NATUREZA3  VALOR_EMPENHADO\n",
       "0  2014    6   EXE  25016  410016        146  344000000       1137990.00\n",
       "1  2014    9   MPE   3004   30004        100  331000000        210537.96\n",
       "2  2014    5   MPE   3004   30004        100  331000000        190434.86\n",
       "3  2014   11   EXE  20516  510516        100  331000000        174294.75\n",
       "4  2014    6   EXE  20516  510516        100  331000000        182815.82"
      ]
     },
     "execution_count": 288,
     "metadata": {},
     "output_type": "execute_result"
    }
   ],
   "source": [
    "df.head()"
   ]
  },
  {
   "cell_type": "code",
   "execution_count": 289,
   "metadata": {},
   "outputs": [],
   "source": [
    "df['ANO_MES'] = df['ANO'].astype(str) + '-' + df['MES'].astype(str)"
   ]
  },
  {
   "cell_type": "markdown",
   "metadata": {},
   "source": [
    "#### Filtro dos dados!\n",
    "Definições: \n",
    "Unidade Gestora.  \n",
    "Natureza.  \n",
    "Poder.  \n",
    "\n",
    "**FIltro de maior relevância!**"
   ]
  },
  {
   "cell_type": "code",
   "execution_count": 290,
   "metadata": {},
   "outputs": [],
   "source": [
    "# UO == 21018, NATURZA3 == 331000000, PODER == 'EXE'\n",
    "# SEFAZ, DESPESA COM PESSOAL E PODER EXECUTIVO\n",
    "# df_test = df_test[df_test['UO'] == 21018]\n",
    "# df_test = df_test[df_test['NATUREZA3'] == 331000000] # Filtrando a Natureza de Pessoal de Operação\n",
    "# df_test = df_test[df_test['PODER'] == 'EXE'] # Apenas o poder executivo"
   ]
  },
  {
   "cell_type": "code",
   "execution_count": 291,
   "metadata": {},
   "outputs": [],
   "source": [
    "df = df.sort_values(by=['ANO', 'MES']).reset_index(drop=True)"
   ]
  },
  {
   "cell_type": "code",
   "execution_count": 292,
   "metadata": {},
   "outputs": [],
   "source": [
    "# Transformando em 'Object' ANO, MES, PODER, UO, UG, FONTE_MAE, NATUREZA3.\n",
    "convertendo_obj = ['ANO', 'MES', 'PODER', 'UO', 'UG', 'FONTE_MAE', 'NATUREZA3']\n",
    "for column in convertendo_obj:\n",
    "    df[column] = df[column].astype('object')"
   ]
  },
  {
   "cell_type": "code",
   "execution_count": 293,
   "metadata": {},
   "outputs": [],
   "source": [
    "# Convertendo para Datetime ANO_MES \n",
    "df['ANO_MES'] = pd.to_datetime(df['ANO_MES'], format='%Y-%m')"
   ]
  },
  {
   "cell_type": "markdown",
   "metadata": {},
   "source": [
    "> Verificação descritiva antes de AGRUPAR!"
   ]
  },
  {
   "cell_type": "code",
   "execution_count": 294,
   "metadata": {},
   "outputs": [
    {
     "data": {
      "text/plain": [
       "count    6.850470e+05\n",
       "mean     1.861016e+05\n",
       "std      2.469266e+06\n",
       "min     -2.817000e+08\n",
       "25%      3.500000e+01\n",
       "50%      1.480000e+03\n",
       "75%      1.350000e+04\n",
       "max      3.690000e+08\n",
       "Name: VALOR_EMPENHADO, dtype: float64"
      ]
     },
     "execution_count": 294,
     "metadata": {},
     "output_type": "execute_result"
    }
   ],
   "source": [
    "df['VALOR_EMPENHADO'].describe()"
   ]
  },
  {
   "cell_type": "markdown",
   "metadata": {},
   "source": [
    "> Verificação de valor nulo ou ausente"
   ]
  },
  {
   "cell_type": "code",
   "execution_count": 295,
   "metadata": {},
   "outputs": [
    {
     "name": "stdout",
     "output_type": "stream",
     "text": [
      "Quantidade de valores ruins: 165982\n",
      "quantidade de vaores negativos: 26688\n",
      "quantidade de valores 0: 139294\n"
     ]
    }
   ],
   "source": [
    "df_valores_ruins = df[df['VALOR_EMPENHADO'] <= 0]\n",
    "print(f'Quantidade de valores ruins: {df_valores_ruins.shape[0]}')\n",
    "print(f'quantidade de vaores negativos: {df_valores_ruins[df_valores_ruins[\"VALOR_EMPENHADO\"] < 0].shape[0]}')\n",
    "print(f'quantidade de valores 0: {df_valores_ruins[df_valores_ruins[\"VALOR_EMPENHADO\"] == 0].shape[0]}')"
   ]
  },
  {
   "cell_type": "code",
   "execution_count": 296,
   "metadata": {},
   "outputs": [
    {
     "data": {
      "text/plain": [
       "(685047, 9)"
      ]
     },
     "execution_count": 296,
     "metadata": {},
     "output_type": "execute_result"
    }
   ],
   "source": [
    "df.shape"
   ]
  },
  {
   "cell_type": "code",
   "execution_count": 297,
   "metadata": {},
   "outputs": [
    {
     "name": "stdout",
     "output_type": "stream",
     "text": [
      "Quantidade de valores ausentes: 0\n"
     ]
    }
   ],
   "source": [
    "quantidade_de_valor_ausente = df['VALOR_EMPENHADO'].isnull().sum().sum()\n",
    "print(f'Quantidade de valores ausentes: {quantidade_de_valor_ausente}')"
   ]
  },
  {
   "cell_type": "code",
   "execution_count": 298,
   "metadata": {},
   "outputs": [
    {
     "name": "stdout",
     "output_type": "stream",
     "text": [
      "<class 'pandas.core.series.Series'>\n",
      "RangeIndex: 685047 entries, 0 to 685046\n",
      "Series name: VALOR_EMPENHADO\n",
      "Non-Null Count   Dtype  \n",
      "--------------   -----  \n",
      "685047 non-null  float64\n",
      "dtypes: float64(1)\n",
      "memory usage: 5.2 MB\n"
     ]
    }
   ],
   "source": [
    "df['VALOR_EMPENHADO'].info()"
   ]
  },
  {
   "cell_type": "markdown",
   "metadata": {},
   "source": [
    "> Verificação da porcentagem de valores atribuidos com '0'."
   ]
  },
  {
   "cell_type": "code",
   "execution_count": 299,
   "metadata": {},
   "outputs": [
    {
     "name": "stdout",
     "output_type": "stream",
     "text": [
      "Porcetagem de valores 0: 20.33%\n"
     ]
    }
   ],
   "source": [
    "# Caclular a porcentagem de valores 0 em realcao ao total\n",
    "porcentagem_de_zeros = df[df['VALOR_EMPENHADO'] == 0].shape[0] / df.shape[0] * 100\n",
    "print(f'Porcetagem de valores 0: {porcentagem_de_zeros:.2f}%')"
   ]
  },
  {
   "cell_type": "code",
   "execution_count": 300,
   "metadata": {},
   "outputs": [],
   "source": [
    "df = df[df['VALOR_EMPENHADO'] > 0]"
   ]
  },
  {
   "cell_type": "code",
   "execution_count": 301,
   "metadata": {},
   "outputs": [
    {
     "data": {
      "text/plain": [
       "(519065, 9)"
      ]
     },
     "execution_count": 301,
     "metadata": {},
     "output_type": "execute_result"
    }
   ],
   "source": [
    "df.shape"
   ]
  },
  {
   "cell_type": "markdown",
   "metadata": {},
   "source": [
    "\n",
    "> Agrupando os dados na frêquencia 'MENSAL'."
   ]
  },
  {
   "cell_type": "code",
   "execution_count": 302,
   "metadata": {},
   "outputs": [],
   "source": [
    "# Agrupando\n",
    "df = df.groupby(['ANO_MES'])['VALOR_EMPENHADO'].sum().reset_index()"
   ]
  },
  {
   "cell_type": "code",
   "execution_count": 303,
   "metadata": {},
   "outputs": [
    {
     "data": {
      "text/html": [
       "<div>\n",
       "<style scoped>\n",
       "    .dataframe tbody tr th:only-of-type {\n",
       "        vertical-align: middle;\n",
       "    }\n",
       "\n",
       "    .dataframe tbody tr th {\n",
       "        vertical-align: top;\n",
       "    }\n",
       "\n",
       "    .dataframe thead th {\n",
       "        text-align: right;\n",
       "    }\n",
       "</style>\n",
       "<table border=\"1\" class=\"dataframe\">\n",
       "  <thead>\n",
       "    <tr style=\"text-align: right;\">\n",
       "      <th></th>\n",
       "      <th>ANO_MES</th>\n",
       "      <th>VALOR_EMPENHADO</th>\n",
       "    </tr>\n",
       "  </thead>\n",
       "  <tbody>\n",
       "    <tr>\n",
       "      <th>0</th>\n",
       "      <td>2014-01-01</td>\n",
       "      <td>1.895801e+09</td>\n",
       "    </tr>\n",
       "    <tr>\n",
       "      <th>1</th>\n",
       "      <td>2014-02-01</td>\n",
       "      <td>5.287013e+08</td>\n",
       "    </tr>\n",
       "    <tr>\n",
       "      <th>2</th>\n",
       "      <td>2014-03-01</td>\n",
       "      <td>5.196278e+08</td>\n",
       "    </tr>\n",
       "    <tr>\n",
       "      <th>3</th>\n",
       "      <td>2014-04-01</td>\n",
       "      <td>5.844282e+08</td>\n",
       "    </tr>\n",
       "    <tr>\n",
       "      <th>4</th>\n",
       "      <td>2014-05-01</td>\n",
       "      <td>5.885324e+08</td>\n",
       "    </tr>\n",
       "  </tbody>\n",
       "</table>\n",
       "</div>"
      ],
      "text/plain": [
       "     ANO_MES  VALOR_EMPENHADO\n",
       "0 2014-01-01     1.895801e+09\n",
       "1 2014-02-01     5.287013e+08\n",
       "2 2014-03-01     5.196278e+08\n",
       "3 2014-04-01     5.844282e+08\n",
       "4 2014-05-01     5.885324e+08"
      ]
     },
     "execution_count": 303,
     "metadata": {},
     "output_type": "execute_result"
    }
   ],
   "source": [
    "df.head()"
   ]
  },
  {
   "cell_type": "code",
   "execution_count": 304,
   "metadata": {},
   "outputs": [],
   "source": [
    "dados = df.copy()"
   ]
  },
  {
   "cell_type": "markdown",
   "metadata": {},
   "source": [
    "> ! Setembro ainda não encerrou, então foi retirado da análise!"
   ]
  },
  {
   "cell_type": "code",
   "execution_count": 305,
   "metadata": {},
   "outputs": [
    {
     "data": {
      "text/html": [
       "<div>\n",
       "<style scoped>\n",
       "    .dataframe tbody tr th:only-of-type {\n",
       "        vertical-align: middle;\n",
       "    }\n",
       "\n",
       "    .dataframe tbody tr th {\n",
       "        vertical-align: top;\n",
       "    }\n",
       "\n",
       "    .dataframe thead th {\n",
       "        text-align: right;\n",
       "    }\n",
       "</style>\n",
       "<table border=\"1\" class=\"dataframe\">\n",
       "  <thead>\n",
       "    <tr style=\"text-align: right;\">\n",
       "      <th></th>\n",
       "      <th>ANO_MES</th>\n",
       "      <th>VALOR_EMPENHADO</th>\n",
       "    </tr>\n",
       "  </thead>\n",
       "  <tbody>\n",
       "    <tr>\n",
       "      <th>124</th>\n",
       "      <td>2024-05-01</td>\n",
       "      <td>1.482428e+09</td>\n",
       "    </tr>\n",
       "    <tr>\n",
       "      <th>125</th>\n",
       "      <td>2024-06-01</td>\n",
       "      <td>1.527629e+09</td>\n",
       "    </tr>\n",
       "    <tr>\n",
       "      <th>126</th>\n",
       "      <td>2024-07-01</td>\n",
       "      <td>1.549085e+09</td>\n",
       "    </tr>\n",
       "    <tr>\n",
       "      <th>127</th>\n",
       "      <td>2024-08-01</td>\n",
       "      <td>1.414779e+09</td>\n",
       "    </tr>\n",
       "    <tr>\n",
       "      <th>128</th>\n",
       "      <td>2024-09-01</td>\n",
       "      <td>2.474858e+08</td>\n",
       "    </tr>\n",
       "  </tbody>\n",
       "</table>\n",
       "</div>"
      ],
      "text/plain": [
       "       ANO_MES  VALOR_EMPENHADO\n",
       "124 2024-05-01     1.482428e+09\n",
       "125 2024-06-01     1.527629e+09\n",
       "126 2024-07-01     1.549085e+09\n",
       "127 2024-08-01     1.414779e+09\n",
       "128 2024-09-01     2.474858e+08"
      ]
     },
     "execution_count": 305,
     "metadata": {},
     "output_type": "execute_result"
    }
   ],
   "source": [
    "dados.tail()"
   ]
  },
  {
   "cell_type": "code",
   "execution_count": 306,
   "metadata": {},
   "outputs": [],
   "source": [
    "# Setembro não acabou, então não temos o valor oficial de setembro de 2024\n",
    "dados = dados[dados['ANO_MES'] != '2024-09-01']"
   ]
  },
  {
   "cell_type": "code",
   "execution_count": 307,
   "metadata": {},
   "outputs": [],
   "source": [
    "# Setando o index\n",
    "dados.index = dados['ANO_MES']\n",
    "dados.drop('ANO_MES', axis=1, inplace=True)"
   ]
  },
  {
   "cell_type": "code",
   "execution_count": 308,
   "metadata": {},
   "outputs": [
    {
     "data": {
      "text/html": [
       "<div>\n",
       "<style scoped>\n",
       "    .dataframe tbody tr th:only-of-type {\n",
       "        vertical-align: middle;\n",
       "    }\n",
       "\n",
       "    .dataframe tbody tr th {\n",
       "        vertical-align: top;\n",
       "    }\n",
       "\n",
       "    .dataframe thead th {\n",
       "        text-align: right;\n",
       "    }\n",
       "</style>\n",
       "<table border=\"1\" class=\"dataframe\">\n",
       "  <thead>\n",
       "    <tr style=\"text-align: right;\">\n",
       "      <th></th>\n",
       "      <th>VALOR_EMPENHADO</th>\n",
       "    </tr>\n",
       "    <tr>\n",
       "      <th>ANO_MES</th>\n",
       "      <th></th>\n",
       "    </tr>\n",
       "  </thead>\n",
       "  <tbody>\n",
       "    <tr>\n",
       "      <th>2014-01-01</th>\n",
       "      <td>1.895801e+09</td>\n",
       "    </tr>\n",
       "    <tr>\n",
       "      <th>2014-02-01</th>\n",
       "      <td>5.287013e+08</td>\n",
       "    </tr>\n",
       "    <tr>\n",
       "      <th>2014-03-01</th>\n",
       "      <td>5.196278e+08</td>\n",
       "    </tr>\n",
       "    <tr>\n",
       "      <th>2014-04-01</th>\n",
       "      <td>5.844282e+08</td>\n",
       "    </tr>\n",
       "    <tr>\n",
       "      <th>2014-05-01</th>\n",
       "      <td>5.885324e+08</td>\n",
       "    </tr>\n",
       "  </tbody>\n",
       "</table>\n",
       "</div>"
      ],
      "text/plain": [
       "            VALOR_EMPENHADO\n",
       "ANO_MES                    \n",
       "2014-01-01     1.895801e+09\n",
       "2014-02-01     5.287013e+08\n",
       "2014-03-01     5.196278e+08\n",
       "2014-04-01     5.844282e+08\n",
       "2014-05-01     5.885324e+08"
      ]
     },
     "execution_count": 308,
     "metadata": {},
     "output_type": "execute_result"
    }
   ],
   "source": [
    "dados.head()"
   ]
  },
  {
   "cell_type": "code",
   "execution_count": 309,
   "metadata": {},
   "outputs": [
    {
     "data": {
      "text/html": [
       "<div>\n",
       "<style scoped>\n",
       "    .dataframe tbody tr th:only-of-type {\n",
       "        vertical-align: middle;\n",
       "    }\n",
       "\n",
       "    .dataframe tbody tr th {\n",
       "        vertical-align: top;\n",
       "    }\n",
       "\n",
       "    .dataframe thead th {\n",
       "        text-align: right;\n",
       "    }\n",
       "</style>\n",
       "<table border=\"1\" class=\"dataframe\">\n",
       "  <thead>\n",
       "    <tr style=\"text-align: right;\">\n",
       "      <th></th>\n",
       "      <th>VALOR_EMPENHADO</th>\n",
       "    </tr>\n",
       "    <tr>\n",
       "      <th>ANO_MES</th>\n",
       "      <th></th>\n",
       "    </tr>\n",
       "  </thead>\n",
       "  <tbody>\n",
       "    <tr>\n",
       "      <th>2024-04-01</th>\n",
       "      <td>1.560008e+09</td>\n",
       "    </tr>\n",
       "    <tr>\n",
       "      <th>2024-05-01</th>\n",
       "      <td>1.482428e+09</td>\n",
       "    </tr>\n",
       "    <tr>\n",
       "      <th>2024-06-01</th>\n",
       "      <td>1.527629e+09</td>\n",
       "    </tr>\n",
       "    <tr>\n",
       "      <th>2024-07-01</th>\n",
       "      <td>1.549085e+09</td>\n",
       "    </tr>\n",
       "    <tr>\n",
       "      <th>2024-08-01</th>\n",
       "      <td>1.414779e+09</td>\n",
       "    </tr>\n",
       "  </tbody>\n",
       "</table>\n",
       "</div>"
      ],
      "text/plain": [
       "            VALOR_EMPENHADO\n",
       "ANO_MES                    \n",
       "2024-04-01     1.560008e+09\n",
       "2024-05-01     1.482428e+09\n",
       "2024-06-01     1.527629e+09\n",
       "2024-07-01     1.549085e+09\n",
       "2024-08-01     1.414779e+09"
      ]
     },
     "execution_count": 309,
     "metadata": {},
     "output_type": "execute_result"
    }
   ],
   "source": [
    "dados.tail()"
   ]
  },
  {
   "cell_type": "markdown",
   "metadata": {},
   "source": [
    "> Dados está pronto para ser análisado"
   ]
  },
  {
   "cell_type": "markdown",
   "metadata": {},
   "source": [
    "___"
   ]
  },
  {
   "cell_type": "markdown",
   "metadata": {},
   "source": [
    "# 2 - Análise"
   ]
  },
  {
   "cell_type": "markdown",
   "metadata": {},
   "source": [
    "Formatação Gŕafica - Padrão"
   ]
  },
  {
   "cell_type": "code",
   "execution_count": 310,
   "metadata": {},
   "outputs": [],
   "source": [
    "# Formatação para gráficos e tabelas\n",
    "plt.style.use('ggplot')\n",
    "pd.set_option('display.expand_frame_repr', False)\n",
    "pd.set_option('display.max_columns', 500 )\n",
    "pd.set_option('display.width', 1000)"
   ]
  },
  {
   "cell_type": "code",
   "execution_count": 311,
   "metadata": {},
   "outputs": [],
   "source": [
    "# Formatando os Labels\n",
    "m.rcParams['axes.labelsize'] = 14\n",
    "m.rcParams['xtick.labelsize'] = 12\n",
    "m.rcParams['ytick.labelsize'] = 12\n",
    "m.rcParams['text.color'] = 'k'"
   ]
  },
  {
   "cell_type": "markdown",
   "metadata": {},
   "source": [
    "> Atribuindo a coluna responsável pela 'data' como index, tornando o df em uma series"
   ]
  },
  {
   "cell_type": "code",
   "execution_count": 312,
   "metadata": {},
   "outputs": [
    {
     "data": {
      "image/png": "[encoded data removed]",
      "text/plain": [
       "<Figure size 1500x600 with 1 Axes>"
      ]
     },
     "metadata": {},
     "output_type": "display_data"
    }
   ],
   "source": [
    "plt.figure(figsize=(15, 6))\n",
    "dados['VALOR_EMPENHADO'].plot.hist(bins=100, grid=True, edgecolor='black').autoscale(enable=True)\n",
    "plt.xlabel('Preço do valor empenhado')\n",
    "plt.title('Distribuição dos valores empenhados')\n",
    "plt.show()"
   ]
  },
  {
   "cell_type": "code",
   "execution_count": 313,
   "metadata": {},
   "outputs": [
    {
     "data": {
      "image/png": "[encoded data removed]",
      "text/plain": [
       "<Figure size 1500x600 with 1 Axes>"
      ]
     },
     "metadata": {},
     "output_type": "display_data"
    }
   ],
   "source": [
    "plt.figure(figsize=(15, 6))\n",
    "dados['VALOR_EMPENHADO'].plot.kde()\n",
    "plt.xlabel('Preço do valor empenhado')\n",
    "plt.title('Distribuição dos valores empenhados')\n",
    "plt.show()"
   ]
  },
  {
   "cell_type": "code",
   "execution_count": 314,
   "metadata": {},
   "outputs": [
    {
     "data": {
      "text/plain": [
       "<Figure size 1500x600 with 0 Axes>"
      ]
     },
     "metadata": {},
     "output_type": "display_data"
    },
    {
     "data": {
      "image/png": "[encoded data removed]",
      "text/plain": [
       "<Figure size 640x480 with 1 Axes>"
      ]
     },
     "metadata": {},
     "output_type": "display_data"
    },
    {
     "name": "stdout",
     "output_type": "stream",
     "text": [
      "            VALOR_EMPENHADO\n",
      "ANO_MES                    \n",
      "2014-12-31     7.206163e+08\n",
      "2015-12-31     7.000657e+08\n",
      "2016-12-31     8.865330e+08\n",
      "2017-12-31     9.341275e+08\n",
      "2018-12-31     8.980974e+08\n",
      "2019-12-31     8.058688e+08\n",
      "2020-12-31     9.660434e+08\n",
      "2021-12-31     1.260023e+09\n",
      "2022-12-31     1.411240e+09\n",
      "2023-12-31     1.544757e+09\n",
      "2024-12-31     1.447297e+09\n"
     ]
    }
   ],
   "source": [
    "# valor medio do valor empnheado por ano, plo\n",
    "plt.figure(figsize=(15, 6))\n",
    "dados.resample('Y').mean().plot(grid=True)\n",
    "plt.xlabel('Ano')\n",
    "plt.ylabel('Valor Empenhado')\n",
    "plt.title('Valor Empenhado Médio por Ano')\n",
    "plt.show()\n",
    "media_ano = dados.resample('Y').mean()\n",
    "print(media_ano)"
   ]
  },
  {
   "cell_type": "code",
   "execution_count": 315,
   "metadata": {},
   "outputs": [
    {
     "data": {
      "text/plain": [
       "(128, 1)"
      ]
     },
     "execution_count": 315,
     "metadata": {},
     "output_type": "execute_result"
    }
   ],
   "source": [
    "dados.shape"
   ]
  },
  {
   "cell_type": "code",
   "execution_count": 316,
   "metadata": {},
   "outputs": [
    {
     "data": {
      "text/html": [
       "<div>\n",
       "<style scoped>\n",
       "    .dataframe tbody tr th:only-of-type {\n",
       "        vertical-align: middle;\n",
       "    }\n",
       "\n",
       "    .dataframe tbody tr th {\n",
       "        vertical-align: top;\n",
       "    }\n",
       "\n",
       "    .dataframe thead th {\n",
       "        text-align: right;\n",
       "    }\n",
       "</style>\n",
       "<table border=\"1\" class=\"dataframe\">\n",
       "  <thead>\n",
       "    <tr style=\"text-align: right;\">\n",
       "      <th></th>\n",
       "      <th>VALOR_EMPENHADO</th>\n",
       "    </tr>\n",
       "    <tr>\n",
       "      <th>ANO_MES</th>\n",
       "      <th></th>\n",
       "    </tr>\n",
       "  </thead>\n",
       "  <tbody>\n",
       "    <tr>\n",
       "      <th>2014-01-01</th>\n",
       "      <td>1.895801e+09</td>\n",
       "    </tr>\n",
       "    <tr>\n",
       "      <th>2014-02-01</th>\n",
       "      <td>5.287013e+08</td>\n",
       "    </tr>\n",
       "    <tr>\n",
       "      <th>2014-03-01</th>\n",
       "      <td>5.196278e+08</td>\n",
       "    </tr>\n",
       "    <tr>\n",
       "      <th>2014-04-01</th>\n",
       "      <td>5.844282e+08</td>\n",
       "    </tr>\n",
       "    <tr>\n",
       "      <th>2014-05-01</th>\n",
       "      <td>5.885324e+08</td>\n",
       "    </tr>\n",
       "    <tr>\n",
       "      <th>...</th>\n",
       "      <td>...</td>\n",
       "    </tr>\n",
       "    <tr>\n",
       "      <th>2023-04-01</th>\n",
       "      <td>1.334346e+09</td>\n",
       "    </tr>\n",
       "    <tr>\n",
       "      <th>2023-05-01</th>\n",
       "      <td>1.408602e+09</td>\n",
       "    </tr>\n",
       "    <tr>\n",
       "      <th>2023-06-01</th>\n",
       "      <td>1.407576e+09</td>\n",
       "    </tr>\n",
       "    <tr>\n",
       "      <th>2023-07-01</th>\n",
       "      <td>1.354977e+09</td>\n",
       "    </tr>\n",
       "    <tr>\n",
       "      <th>2023-08-01</th>\n",
       "      <td>1.309425e+09</td>\n",
       "    </tr>\n",
       "  </tbody>\n",
       "</table>\n",
       "<p>116 rows × 1 columns</p>\n",
       "</div>"
      ],
      "text/plain": [
       "            VALOR_EMPENHADO\n",
       "ANO_MES                    \n",
       "2014-01-01     1.895801e+09\n",
       "2014-02-01     5.287013e+08\n",
       "2014-03-01     5.196278e+08\n",
       "2014-04-01     5.844282e+08\n",
       "2014-05-01     5.885324e+08\n",
       "...                     ...\n",
       "2023-04-01     1.334346e+09\n",
       "2023-05-01     1.408602e+09\n",
       "2023-06-01     1.407576e+09\n",
       "2023-07-01     1.354977e+09\n",
       "2023-08-01     1.309425e+09\n",
       "\n",
       "[116 rows x 1 columns]"
      ]
     },
     "execution_count": 316,
     "metadata": {},
     "output_type": "execute_result"
    }
   ],
   "source": [
    "dados_treino = dados.iloc[:-12]\n",
    "dados_treino"
   ]
  },
  {
   "cell_type": "code",
   "execution_count": 317,
   "metadata": {},
   "outputs": [
    {
     "data": {
      "text/html": [
       "<div>\n",
       "<style scoped>\n",
       "    .dataframe tbody tr th:only-of-type {\n",
       "        vertical-align: middle;\n",
       "    }\n",
       "\n",
       "    .dataframe tbody tr th {\n",
       "        vertical-align: top;\n",
       "    }\n",
       "\n",
       "    .dataframe thead th {\n",
       "        text-align: right;\n",
       "    }\n",
       "</style>\n",
       "<table border=\"1\" class=\"dataframe\">\n",
       "  <thead>\n",
       "    <tr style=\"text-align: right;\">\n",
       "      <th></th>\n",
       "      <th>VALOR_EMPENHADO</th>\n",
       "    </tr>\n",
       "    <tr>\n",
       "      <th>ANO_MES</th>\n",
       "      <th></th>\n",
       "    </tr>\n",
       "  </thead>\n",
       "  <tbody>\n",
       "    <tr>\n",
       "      <th>2023-09-01</th>\n",
       "      <td>2.017830e+09</td>\n",
       "    </tr>\n",
       "    <tr>\n",
       "      <th>2023-10-01</th>\n",
       "      <td>1.038205e+09</td>\n",
       "    </tr>\n",
       "    <tr>\n",
       "      <th>2023-11-01</th>\n",
       "      <td>1.365538e+09</td>\n",
       "    </tr>\n",
       "    <tr>\n",
       "      <th>2023-12-01</th>\n",
       "      <td>3.473475e+09</td>\n",
       "    </tr>\n",
       "    <tr>\n",
       "      <th>2024-01-01</th>\n",
       "      <td>1.147500e+09</td>\n",
       "    </tr>\n",
       "    <tr>\n",
       "      <th>2024-02-01</th>\n",
       "      <td>1.369704e+09</td>\n",
       "    </tr>\n",
       "    <tr>\n",
       "      <th>2024-03-01</th>\n",
       "      <td>1.527246e+09</td>\n",
       "    </tr>\n",
       "    <tr>\n",
       "      <th>2024-04-01</th>\n",
       "      <td>1.560008e+09</td>\n",
       "    </tr>\n",
       "    <tr>\n",
       "      <th>2024-05-01</th>\n",
       "      <td>1.482428e+09</td>\n",
       "    </tr>\n",
       "    <tr>\n",
       "      <th>2024-06-01</th>\n",
       "      <td>1.527629e+09</td>\n",
       "    </tr>\n",
       "    <tr>\n",
       "      <th>2024-07-01</th>\n",
       "      <td>1.549085e+09</td>\n",
       "    </tr>\n",
       "    <tr>\n",
       "      <th>2024-08-01</th>\n",
       "      <td>1.414779e+09</td>\n",
       "    </tr>\n",
       "  </tbody>\n",
       "</table>\n",
       "</div>"
      ],
      "text/plain": [
       "            VALOR_EMPENHADO\n",
       "ANO_MES                    \n",
       "2023-09-01     2.017830e+09\n",
       "2023-10-01     1.038205e+09\n",
       "2023-11-01     1.365538e+09\n",
       "2023-12-01     3.473475e+09\n",
       "2024-01-01     1.147500e+09\n",
       "2024-02-01     1.369704e+09\n",
       "2024-03-01     1.527246e+09\n",
       "2024-04-01     1.560008e+09\n",
       "2024-05-01     1.482428e+09\n",
       "2024-06-01     1.527629e+09\n",
       "2024-07-01     1.549085e+09\n",
       "2024-08-01     1.414779e+09"
      ]
     },
     "execution_count": 317,
     "metadata": {},
     "output_type": "execute_result"
    }
   ],
   "source": [
    "dados_teste = dados.iloc[-12:]\n",
    "dados_teste"
   ]
  },
  {
   "cell_type": "code",
   "execution_count": 318,
   "metadata": {},
   "outputs": [
    {
     "data": {
      "text/html": [
       "<div>\n",
       "<style scoped>\n",
       "    .dataframe tbody tr th:only-of-type {\n",
       "        vertical-align: middle;\n",
       "    }\n",
       "\n",
       "    .dataframe tbody tr th {\n",
       "        vertical-align: top;\n",
       "    }\n",
       "\n",
       "    .dataframe thead th {\n",
       "        text-align: right;\n",
       "    }\n",
       "</style>\n",
       "<table border=\"1\" class=\"dataframe\">\n",
       "  <thead>\n",
       "    <tr style=\"text-align: right;\">\n",
       "      <th></th>\n",
       "      <th>VALOR_EMPENHADO</th>\n",
       "    </tr>\n",
       "    <tr>\n",
       "      <th>ANO_MES</th>\n",
       "      <th></th>\n",
       "    </tr>\n",
       "  </thead>\n",
       "  <tbody>\n",
       "    <tr>\n",
       "      <th>2023-09-01</th>\n",
       "      <td>2.017830e+09</td>\n",
       "    </tr>\n",
       "    <tr>\n",
       "      <th>2023-10-01</th>\n",
       "      <td>1.038205e+09</td>\n",
       "    </tr>\n",
       "    <tr>\n",
       "      <th>2023-11-01</th>\n",
       "      <td>1.365538e+09</td>\n",
       "    </tr>\n",
       "    <tr>\n",
       "      <th>2023-12-01</th>\n",
       "      <td>3.473475e+09</td>\n",
       "    </tr>\n",
       "    <tr>\n",
       "      <th>2024-01-01</th>\n",
       "      <td>1.147500e+09</td>\n",
       "    </tr>\n",
       "    <tr>\n",
       "      <th>2024-02-01</th>\n",
       "      <td>1.369704e+09</td>\n",
       "    </tr>\n",
       "    <tr>\n",
       "      <th>2024-03-01</th>\n",
       "      <td>1.527246e+09</td>\n",
       "    </tr>\n",
       "    <tr>\n",
       "      <th>2024-04-01</th>\n",
       "      <td>1.560008e+09</td>\n",
       "    </tr>\n",
       "    <tr>\n",
       "      <th>2024-05-01</th>\n",
       "      <td>1.482428e+09</td>\n",
       "    </tr>\n",
       "    <tr>\n",
       "      <th>2024-06-01</th>\n",
       "      <td>1.527629e+09</td>\n",
       "    </tr>\n",
       "    <tr>\n",
       "      <th>2024-07-01</th>\n",
       "      <td>1.549085e+09</td>\n",
       "    </tr>\n",
       "    <tr>\n",
       "      <th>2024-08-01</th>\n",
       "      <td>1.414779e+09</td>\n",
       "    </tr>\n",
       "  </tbody>\n",
       "</table>\n",
       "</div>"
      ],
      "text/plain": [
       "            VALOR_EMPENHADO\n",
       "ANO_MES                    \n",
       "2023-09-01     2.017830e+09\n",
       "2023-10-01     1.038205e+09\n",
       "2023-11-01     1.365538e+09\n",
       "2023-12-01     3.473475e+09\n",
       "2024-01-01     1.147500e+09\n",
       "2024-02-01     1.369704e+09\n",
       "2024-03-01     1.527246e+09\n",
       "2024-04-01     1.560008e+09\n",
       "2024-05-01     1.482428e+09\n",
       "2024-06-01     1.527629e+09\n",
       "2024-07-01     1.549085e+09\n",
       "2024-08-01     1.414779e+09"
      ]
     },
     "execution_count": 318,
     "metadata": {},
     "output_type": "execute_result"
    }
   ],
   "source": [
    "dados_teste"
   ]
  },
  {
   "cell_type": "code",
   "execution_count": 319,
   "metadata": {},
   "outputs": [
    {
     "data": {
      "image/png": "[encoded data removed]",
      "text/plain": [
       "<Figure size 1500x500 with 1 Axes>"
      ]
     },
     "metadata": {},
     "output_type": "display_data"
    }
   ],
   "source": [
    "# Supondo que dados_treino e dados_teste são DataFrames do Pandas\n",
    "plt.figure(figsize=(15, 5))\n",
    "plt.plot(dados_treino, color='black', label='Dados de Treino')\n",
    "plt.plot(dados_teste, color='red', label='Dados de Teste')\n",
    "plt.title('Dados de Treino e Teste')\n",
    "plt.xlabel('Datas')\n",
    "plt.legend()\n",
    "plt.show()"
   ]
  },
  {
   "cell_type": "markdown",
   "metadata": {},
   "source": [
    "___"
   ]
  },
  {
   "cell_type": "code",
   "execution_count": 338,
   "metadata": {},
   "outputs": [
    {
     "name": "stdout",
     "output_type": "stream",
     "text": [
      "\n",
      "Resultado do Teste Dickey-Fuller:\n",
      "Estatística do Teste             -0.187659\n",
      "Valor-p                           0.939977\n",
      "Número de Lags Consideradas      11.000000\n",
      "Número de Observações Usadas    116.000000\n",
      "Valor Crítico (1%)               -3.488022\n",
      "Valor Crítico (5%)               -2.886797\n",
      "Valor Crítico (10%)              -2.580241\n",
      "dtype: float64\n",
      "\n",
      "Conclusão:\n",
      "O valor-p é maior que 0.05 e, portanto, não temos evidências para rejeitar a hipótese nula.\n",
      "Essa série provavelmente não é estacionária.\n"
     ]
    }
   ],
   "source": [
    "teste = dsa_testa_estacionaridade(dados)        "
   ]
  },
  {
   "cell_type": "code",
   "execution_count": 341,
   "metadata": {},
   "outputs": [],
   "source": [
    "dados_log = np.log1p(dados)"
   ]
  },
  {
   "cell_type": "code",
   "execution_count": 342,
   "metadata": {},
   "outputs": [
    {
     "name": "stdout",
     "output_type": "stream",
     "text": [
      "\n",
      "Resultado do Teste Dickey-Fuller:\n",
      "Estatística do Teste             -0.299637\n",
      "Valor-p                           0.925556\n",
      "Número de Lags Consideradas      11.000000\n",
      "Número de Observações Usadas    116.000000\n",
      "Valor Crítico (1%)               -3.488022\n",
      "Valor Crítico (5%)               -2.886797\n",
      "Valor Crítico (10%)              -2.580241\n",
      "dtype: float64\n",
      "\n",
      "Conclusão:\n",
      "O valor-p é maior que 0.05 e, portanto, não temos evidências para rejeitar a hipótese nula.\n",
      "Essa série provavelmente não é estacionária.\n"
     ]
    },
    {
     "data": {
      "text/plain": [
       "False"
      ]
     },
     "execution_count": 342,
     "metadata": {},
     "output_type": "execute_result"
    }
   ],
   "source": [
    "dsa_testa_estacionaridade(dados_log)"
   ]
  },
  {
   "cell_type": "code",
   "execution_count": 343,
   "metadata": {},
   "outputs": [],
   "source": [
    "dados_sqrt = np.sqrt(dados)"
   ]
  },
  {
   "cell_type": "code",
   "execution_count": 344,
   "metadata": {},
   "outputs": [
    {
     "name": "stdout",
     "output_type": "stream",
     "text": [
      "\n",
      "Resultado do Teste Dickey-Fuller:\n",
      "Estatística do Teste             -0.175609\n",
      "Valor-p                           0.941367\n",
      "Número de Lags Consideradas      11.000000\n",
      "Número de Observações Usadas    116.000000\n",
      "Valor Crítico (1%)               -3.488022\n",
      "Valor Crítico (5%)               -2.886797\n",
      "Valor Crítico (10%)              -2.580241\n",
      "dtype: float64\n",
      "\n",
      "Conclusão:\n",
      "O valor-p é maior que 0.05 e, portanto, não temos evidências para rejeitar a hipótese nula.\n",
      "Essa série provavelmente não é estacionária.\n"
     ]
    },
    {
     "data": {
      "text/plain": [
       "False"
      ]
     },
     "execution_count": 344,
     "metadata": {},
     "output_type": "execute_result"
    }
   ],
   "source": [
    "dsa_testa_estacionaridade(dados_sqrt)"
   ]
  },
  {
   "cell_type": "code",
   "execution_count": 345,
   "metadata": {},
   "outputs": [],
   "source": [
    "# diferenciacao\n",
    "dados_diff = dados.diff().dropna()"
   ]
  },
  {
   "cell_type": "code",
   "execution_count": 346,
   "metadata": {},
   "outputs": [
    {
     "name": "stdout",
     "output_type": "stream",
     "text": [
      "\n",
      "Resultado do Teste Dickey-Fuller:\n",
      "Estatística do Teste           -6.795898e+00\n",
      "Valor-p                         2.301489e-09\n",
      "Número de Lags Consideradas     1.000000e+01\n",
      "Número de Observações Usadas    1.160000e+02\n",
      "Valor Crítico (1%)             -3.488022e+00\n",
      "Valor Crítico (5%)             -2.886797e+00\n",
      "Valor Crítico (10%)            -2.580241e+00\n",
      "dtype: float64\n",
      "\n",
      "Conclusão:\n",
      "O valor-p é menor que 0.05 e, portanto, temos evidências para rejeitar a hipótese nula.\n",
      "Essa série provavelmente é estacionária.\n"
     ]
    },
    {
     "data": {
      "text/plain": [
       "True"
      ]
     },
     "execution_count": 346,
     "metadata": {},
     "output_type": "execute_result"
    }
   ],
   "source": [
    "dsa_testa_estacionaridade(dados_diff)"
   ]
  },
  {
   "cell_type": "code",
   "execution_count": 348,
   "metadata": {},
   "outputs": [],
   "source": [
    "# A função \"dsa_testa_estacionaridade\" irá testar se a série é estacionária ou não. Irá retornar False, se a série não for estacionária e True, se a série for estacionária.\n",
    "# Pseudo-código\n",
    "# 1- Haverá o teste da estacionaridade com a função mencionada, caso retorne false, entrará no bloco de transformação e teste.\n",
    "# 2- A primeira transformação seŕa a transformação logaritima, será testado a estacionaridade, caso retorne True o looping se encerra com um aviso print dizendo que apos transformacao logaritmica a serie se tornou estacionaria. Caso retorne False, entrara na proxima transformação\n",
    "\n",
    "\n",
    "def estacionaridade_generalizada(dados):\n",
    "    teste = dsa_testa_estacionaridade(dados)\n",
    "    if teste == False:\n",
    "        dados_log = np.log1p(dados)\n",
    "        teste = dsa_testa_estacionaridade(dados_log)\n",
    "        if teste == True:\n",
    "            print('A série se tornou estacionária após a transformação logarítmica.')\n",
    "            return dados_log\n",
    "        else:\n",
    "            dados_sqrt = np.sqrt(dados)\n",
    "            teste = dsa_testa_estacionaridade(dados_sqrt)\n",
    "            if teste == True:\n",
    "                print('A série se tornou estacionária após a transformação raiz quadrada.')\n",
    "                return dados_sqrt\n",
    "            else:\n",
    "                dados_diff = dados.diff().dropna()\n",
    "                teste = dsa_testa_estacionaridade(dados_diff)\n",
    "                if teste == True:\n",
    "                    print('A série se tornou estacionária após a transformação de diferenciação.')\n",
    "                    return dados_diff\n",
    "                else:\n",
    "                    print('A série não se tornou estacionária após as transformações.')\n",
    "                    return dados\n",
    "    else:\n",
    "        print('A série já é estacionária.')\n",
    "        return dados"
   ]
  },
  {
   "cell_type": "code",
   "execution_count": 353,
   "metadata": {},
   "outputs": [
    {
     "name": "stdout",
     "output_type": "stream",
     "text": [
      "\n",
      "Resultado do Teste Dickey-Fuller:\n",
      "Estatística do Teste             -0.187659\n",
      "Valor-p                           0.939977\n",
      "Número de Lags Consideradas      11.000000\n",
      "Número de Observações Usadas    116.000000\n",
      "Valor Crítico (1%)               -3.488022\n",
      "Valor Crítico (5%)               -2.886797\n",
      "Valor Crítico (10%)              -2.580241\n",
      "dtype: float64\n",
      "\n",
      "Conclusão:\n",
      "O valor-p é maior que 0.05 e, portanto, não temos evidências para rejeitar a hipótese nula.\n",
      "Essa série provavelmente não é estacionária.\n",
      "\n",
      "Resultado do Teste Dickey-Fuller:\n",
      "Estatística do Teste             -0.299637\n",
      "Valor-p                           0.925556\n",
      "Número de Lags Consideradas      11.000000\n",
      "Número de Observações Usadas    116.000000\n",
      "Valor Crítico (1%)               -3.488022\n",
      "Valor Crítico (5%)               -2.886797\n",
      "Valor Crítico (10%)              -2.580241\n",
      "dtype: float64\n",
      "\n",
      "Conclusão:\n",
      "O valor-p é maior que 0.05 e, portanto, não temos evidências para rejeitar a hipótese nula.\n",
      "Essa série provavelmente não é estacionária.\n",
      "\n",
      "Resultado do Teste Dickey-Fuller:\n",
      "Estatística do Teste             -0.175609\n",
      "Valor-p                           0.941367\n",
      "Número de Lags Consideradas      11.000000\n",
      "Número de Observações Usadas    116.000000\n",
      "Valor Crítico (1%)               -3.488022\n",
      "Valor Crítico (5%)               -2.886797\n",
      "Valor Crítico (10%)              -2.580241\n",
      "dtype: float64\n",
      "\n",
      "Conclusão:\n",
      "O valor-p é maior que 0.05 e, portanto, não temos evidências para rejeitar a hipótese nula.\n",
      "Essa série provavelmente não é estacionária.\n",
      "\n",
      "Resultado do Teste Dickey-Fuller:\n",
      "Estatística do Teste           -6.795898e+00\n",
      "Valor-p                         2.301489e-09\n",
      "Número de Lags Consideradas     1.000000e+01\n",
      "Número de Observações Usadas    1.160000e+02\n",
      "Valor Crítico (1%)             -3.488022e+00\n",
      "Valor Crítico (5%)             -2.886797e+00\n",
      "Valor Crítico (10%)            -2.580241e+00\n",
      "dtype: float64\n",
      "\n",
      "Conclusão:\n",
      "O valor-p é menor que 0.05 e, portanto, temos evidências para rejeitar a hipótese nula.\n",
      "Essa série provavelmente é estacionária.\n",
      "A série se tornou estacionária após a transformação de diferenciação.\n"
     ]
    },
    {
     "data": {
      "text/html": [
       "<div>\n",
       "<style scoped>\n",
       "    .dataframe tbody tr th:only-of-type {\n",
       "        vertical-align: middle;\n",
       "    }\n",
       "\n",
       "    .dataframe tbody tr th {\n",
       "        vertical-align: top;\n",
       "    }\n",
       "\n",
       "    .dataframe thead th {\n",
       "        text-align: right;\n",
       "    }\n",
       "</style>\n",
       "<table border=\"1\" class=\"dataframe\">\n",
       "  <thead>\n",
       "    <tr style=\"text-align: right;\">\n",
       "      <th></th>\n",
       "      <th>VALOR_EMPENHADO</th>\n",
       "    </tr>\n",
       "    <tr>\n",
       "      <th>ANO_MES</th>\n",
       "      <th></th>\n",
       "    </tr>\n",
       "  </thead>\n",
       "  <tbody>\n",
       "    <tr>\n",
       "      <th>2014-01-01</th>\n",
       "      <td>1.895801e+09</td>\n",
       "    </tr>\n",
       "    <tr>\n",
       "      <th>2014-02-01</th>\n",
       "      <td>5.287013e+08</td>\n",
       "    </tr>\n",
       "    <tr>\n",
       "      <th>2014-03-01</th>\n",
       "      <td>5.196278e+08</td>\n",
       "    </tr>\n",
       "    <tr>\n",
       "      <th>2014-04-01</th>\n",
       "      <td>5.844282e+08</td>\n",
       "    </tr>\n",
       "    <tr>\n",
       "      <th>2014-05-01</th>\n",
       "      <td>5.885324e+08</td>\n",
       "    </tr>\n",
       "    <tr>\n",
       "      <th>...</th>\n",
       "      <td>...</td>\n",
       "    </tr>\n",
       "    <tr>\n",
       "      <th>2024-04-01</th>\n",
       "      <td>1.560008e+09</td>\n",
       "    </tr>\n",
       "    <tr>\n",
       "      <th>2024-05-01</th>\n",
       "      <td>1.482428e+09</td>\n",
       "    </tr>\n",
       "    <tr>\n",
       "      <th>2024-06-01</th>\n",
       "      <td>1.527629e+09</td>\n",
       "    </tr>\n",
       "    <tr>\n",
       "      <th>2024-07-01</th>\n",
       "      <td>1.549085e+09</td>\n",
       "    </tr>\n",
       "    <tr>\n",
       "      <th>2024-08-01</th>\n",
       "      <td>1.414779e+09</td>\n",
       "    </tr>\n",
       "  </tbody>\n",
       "</table>\n",
       "<p>128 rows × 1 columns</p>\n",
       "</div>"
      ],
      "text/plain": [
       "            VALOR_EMPENHADO\n",
       "ANO_MES                    \n",
       "2014-01-01     1.895801e+09\n",
       "2014-02-01     5.287013e+08\n",
       "2014-03-01     5.196278e+08\n",
       "2014-04-01     5.844282e+08\n",
       "2014-05-01     5.885324e+08\n",
       "...                     ...\n",
       "2024-04-01     1.560008e+09\n",
       "2024-05-01     1.482428e+09\n",
       "2024-06-01     1.527629e+09\n",
       "2024-07-01     1.549085e+09\n",
       "2024-08-01     1.414779e+09\n",
       "\n",
       "[128 rows x 1 columns]"
      ]
     },
     "execution_count": 353,
     "metadata": {},
     "output_type": "execute_result"
    }
   ],
   "source": [
    "resultado = estacionaridade_generalizada(dados)\n",
    "\n",
    "dados"
   ]
  }
 ],
 "metadata": {
  "kernelspec": {
   "display_name": "Python 3",
   "language": "python",
   "name": "python3"
  },
  "language_info": {
   "codemirror_mode": {
    "name": "ipython",
    "version": 3
   },
   "file_extension": ".py",
   "mimetype": "text/x-python",
   "name": "python",
   "nbconvert_exporter": "python",
   "pygments_lexer": "ipython3",
   "version": "3.12.4"
  }
 },
 "nbformat": 4,
 "nbformat_minor": 2
}
