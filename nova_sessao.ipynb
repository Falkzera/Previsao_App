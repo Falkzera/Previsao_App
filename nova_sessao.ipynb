{
 "cells": [
  {
   "cell_type": "code",
   "execution_count": 19,
   "metadata": {},
   "outputs": [],
   "source": [
    "import pandas as pd"
   ]
  },
  {
   "cell_type": "code",
   "execution_count": 20,
   "metadata": {},
   "outputs": [],
   "source": [
    "df = pd.read_csv('data/teste.csv', index_col=0)"
   ]
  },
  {
   "cell_type": "code",
   "execution_count": 21,
   "metadata": {},
   "outputs": [
    {
     "data": {
      "text/html": [
       "<div>\n",
       "<style scoped>\n",
       "    .dataframe tbody tr th:only-of-type {\n",
       "        vertical-align: middle;\n",
       "    }\n",
       "\n",
       "    .dataframe tbody tr th {\n",
       "        vertical-align: top;\n",
       "    }\n",
       "\n",
       "    .dataframe thead th {\n",
       "        text-align: right;\n",
       "    }\n",
       "</style>\n",
       "<table border=\"1\" class=\"dataframe\">\n",
       "  <thead>\n",
       "    <tr style=\"text-align: right;\">\n",
       "      <th></th>\n",
       "      <th>Orçamento_Aprovado_2024</th>\n",
       "      <th>Porcentagem</th>\n",
       "      <th>Limite_de_Remanejamento</th>\n",
       "      <th>Uitilizado_do_Limite</th>\n",
       "      <th>Saldo</th>\n",
       "    </tr>\n",
       "    <tr>\n",
       "      <th>0</th>\n",
       "      <th></th>\n",
       "      <th></th>\n",
       "      <th></th>\n",
       "      <th></th>\n",
       "      <th></th>\n",
       "    </tr>\n",
       "  </thead>\n",
       "  <tbody>\n",
       "    <tr>\n",
       "      <th>Momento_Atual</th>\n",
       "      <td>21465664733</td>\n",
       "      <td>0,15</td>\n",
       "      <td>3.219850e+09</td>\n",
       "      <td>2798288707,37</td>\n",
       "      <td>421561002,58</td>\n",
       "    </tr>\n",
       "    <tr>\n",
       "      <th>Previsão</th>\n",
       "      <td>21465664733</td>\n",
       "      <td>0,15</td>\n",
       "      <td>3.219850e+09</td>\n",
       "      <td>2798288707,37</td>\n",
       "      <td>421561002,58</td>\n",
       "    </tr>\n",
       "  </tbody>\n",
       "</table>\n",
       "</div>"
      ],
      "text/plain": [
       "               Orçamento_Aprovado_2024 Porcentagem  Limite_de_Remanejamento  \\\n",
       "0                                                                             \n",
       "Momento_Atual              21465664733        0,15             3.219850e+09   \n",
       "Previsão                   21465664733        0,15             3.219850e+09   \n",
       "\n",
       "              Uitilizado_do_Limite         Saldo  \n",
       "0                                                 \n",
       "Momento_Atual        2798288707,37  421561002,58  \n",
       "Previsão             2798288707,37  421561002,58  "
      ]
     },
     "execution_count": 21,
     "metadata": {},
     "output_type": "execute_result"
    }
   ],
   "source": [
    "df.head()"
   ]
  },
  {
   "cell_type": "code",
   "execution_count": 22,
   "metadata": {},
   "outputs": [],
   "source": [
    "\n",
    "df['Porcentagem'] = df['Porcentagem'].str.replace(',', '.').astype(float)\n",
    "df['Uitilizado_do_Limite'] = df['Uitilizado_do_Limite'].str.replace(',', '.').astype(float)\n",
    "df['Saldo'] = df['Saldo'].str.replace(',', '.').astype(float)\n"
   ]
  },
  {
   "cell_type": "code",
   "execution_count": 23,
   "metadata": {},
   "outputs": [
    {
     "data": {
      "text/plain": [
       "Orçamento_Aprovado_2024      int64\n",
       "Porcentagem                float64\n",
       "Limite_de_Remanejamento    float64\n",
       "Uitilizado_do_Limite       float64\n",
       "Saldo                      float64\n",
       "dtype: object"
      ]
     },
     "execution_count": 23,
     "metadata": {},
     "output_type": "execute_result"
    }
   ],
   "source": [
    "df.dtypes"
   ]
  },
  {
   "cell_type": "code",
   "execution_count": 24,
   "metadata": {},
   "outputs": [],
   "source": [
    "df['Limite_de_Remanejamento'] = df['Orçamento_Aprovado_2024'] * df['Porcentagem']"
   ]
  },
  {
   "cell_type": "code",
   "execution_count": 25,
   "metadata": {},
   "outputs": [
    {
     "data": {
      "text/plain": [
       "0\n",
       "Momento_Atual    3.219850e+09\n",
       "Previsão         3.219850e+09\n",
       "Name: Limite_de_Remanejamento, dtype: float64"
      ]
     },
     "execution_count": 25,
     "metadata": {},
     "output_type": "execute_result"
    }
   ],
   "source": [
    "df['Limite_de_Remanejamento']"
   ]
  }
 ],
 "metadata": {
  "kernelspec": {
   "display_name": "venv",
   "language": "python",
   "name": "python3"
  },
  "language_info": {
   "codemirror_mode": {
    "name": "ipython",
    "version": 3
   },
   "file_extension": ".py",
   "mimetype": "text/x-python",
   "name": "python",
   "nbconvert_exporter": "python",
   "pygments_lexer": "ipython3",
   "version": "3.12.4"
  }
 },
 "nbformat": 4,
 "nbformat_minor": 2
}
